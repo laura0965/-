{
  "nbformat": 4,
  "nbformat_minor": 0,
  "metadata": {
    "colab": {
      "name": " Sistemas Numéricos ",
      "provenance": [],
      "authorship_tag": "ABX9TyOlPtLG3gugFSbi09pNWdH7",
      "include_colab_link": true
    },
    "kernelspec": {
      "name": "python3",
      "display_name": "Python 3"
    },
    "language_info": {
      "name": "python"
    }
  },
  "cells": [
    {
      "cell_type": "markdown",
      "metadata": {
        "id": "view-in-github",
        "colab_type": "text"
      },
      "source": [
        "<a href=\"https://colab.research.google.com/github/laura0965/-/blob/main/clase1/Sistemas_Num%C3%A9ricos.ipynb\" target=\"_parent\"><img src=\"https://colab.research.google.com/assets/colab-badge.svg\" alt=\"Open In Colab\"/></a>"
      ]
    },
    {
      "cell_type": "markdown",
      "source": [
        "# Anteiores"
      ],
      "metadata": {
        "id": "JHzlFMCh6m12"
      }
    },
    {
      "cell_type": "code",
      "source": [
        "fib_list=[0,1,1]\n",
        "n=2\n",
        "len_=len(str(fib_list[-1]))\n",
        "while len_<2022:\n",
        "    fib_list.append(fib_list[n]+fib_list[n-1])\n",
        "    len_=len(str(fib_list[-1]))\n",
        "    n+=1\n",
        "print(len_)\n",
        "print(n)"
      ],
      "metadata": {
        "id": "kZsiEtgJlXFA",
        "colab": {
          "base_uri": "https://localhost:8080/"
        },
        "outputId": "5829d6b5-6511-4f5c-f716-a26b0660f23d"
      },
      "execution_count": null,
      "outputs": [
        {
          "output_type": "stream",
          "name": "stdout",
          "text": [
            "2022\n",
            "9673\n"
          ]
        }
      ]
    },
    {
      "cell_type": "code",
      "source": [
        "\n",
        "# Python program to check if a number\n",
        "# is a krishnamurthy number\n",
        " \n",
        "# function to calculate the factorial\n",
        "# of any number\n",
        "def factorial(n) :\n",
        "    fact = 1\n",
        "    while (n != 0) :\n",
        "        fact = fact * n\n",
        "        n = n - 1\n",
        "    return fact\n",
        " \n",
        "# function to Check if number is\n",
        "# krishnamurthy/special\n",
        "def isKrishnamurthy(n) :\n",
        "    sum = 0\n",
        "    temp = n\n",
        "    while (temp != 0) :\n",
        " \n",
        "        # calculate factorial of last digit\n",
        "        # of temp and add it to sum\n",
        "        rem = temp%10\n",
        "        sum = sum + factorial(rem)\n",
        " \n",
        "        # replace value of temp by temp / 10\n",
        "        temp = temp // 10\n",
        "         \n",
        "    # Check if number is krishnamurthy\n",
        "    return (sum == n)\n",
        " \n",
        "# Driver code\n",
        "for n in range(1,1000)\n",
        " if (isKrishnamurthy(n)) :\n",
        "    print(\"YES\")\n",
        "    print(n) \n"
      ],
      "metadata": {
        "id": "GPVMu1mhtydl"
      },
      "execution_count": null,
      "outputs": []
    },
    {
      "cell_type": "markdown",
      "source": [
        "#ay"
      ],
      "metadata": {
        "id": "twpLr_dFq7-8"
      }
    },
    {
      "cell_type": "code",
      "source": [
        "fib_list=[0,1,1]\n",
        "n=2\n",
        "len_=len(str(fib_list[-1]))\n",
        "while len_<2022:\n",
        "    fib_list.append(fib_list[n]+fib_list[n-1])\n",
        "    len_=len(str(fib_list[-1]))\n",
        "    \n",
        "    for x in fib_list:\n",
        "      if x%(7^4)==0:\n",
        "        n+=1\n",
        "\n",
        "        print(n)"
      ],
      "metadata": {
        "colab": {
          "base_uri": "https://localhost:8080/",
          "height": 294
        },
        "id": "Q688sq1aq-fk",
        "outputId": "dd28bee4-9f84-4edc-d7b4-1bf69fb936d1"
      },
      "execution_count": null,
      "outputs": [
        {
          "output_type": "stream",
          "name": "stdout",
          "text": [
            "3\n",
            "4\n",
            "5\n"
          ]
        },
        {
          "output_type": "error",
          "ename": "IndexError",
          "evalue": "ignored",
          "traceback": [
            "\u001b[0;31m---------------------------------------------------------------------------\u001b[0m",
            "\u001b[0;31mIndexError\u001b[0m                                Traceback (most recent call last)",
            "\u001b[0;32m<ipython-input-8-fdebb85750ba>\u001b[0m in \u001b[0;36m<module>\u001b[0;34m()\u001b[0m\n\u001b[1;32m      3\u001b[0m \u001b[0mlen_\u001b[0m\u001b[0;34m=\u001b[0m\u001b[0mlen\u001b[0m\u001b[0;34m(\u001b[0m\u001b[0mstr\u001b[0m\u001b[0;34m(\u001b[0m\u001b[0mfib_list\u001b[0m\u001b[0;34m[\u001b[0m\u001b[0;34m-\u001b[0m\u001b[0;36m1\u001b[0m\u001b[0;34m]\u001b[0m\u001b[0;34m)\u001b[0m\u001b[0;34m)\u001b[0m\u001b[0;34m\u001b[0m\u001b[0;34m\u001b[0m\u001b[0m\n\u001b[1;32m      4\u001b[0m \u001b[0;32mwhile\u001b[0m \u001b[0mlen_\u001b[0m\u001b[0;34m<\u001b[0m\u001b[0;36m2022\u001b[0m\u001b[0;34m:\u001b[0m\u001b[0;34m\u001b[0m\u001b[0;34m\u001b[0m\u001b[0m\n\u001b[0;32m----> 5\u001b[0;31m     \u001b[0mfib_list\u001b[0m\u001b[0;34m.\u001b[0m\u001b[0mappend\u001b[0m\u001b[0;34m(\u001b[0m\u001b[0mfib_list\u001b[0m\u001b[0;34m[\u001b[0m\u001b[0mn\u001b[0m\u001b[0;34m]\u001b[0m\u001b[0;34m+\u001b[0m\u001b[0mfib_list\u001b[0m\u001b[0;34m[\u001b[0m\u001b[0mn\u001b[0m\u001b[0;34m-\u001b[0m\u001b[0;36m1\u001b[0m\u001b[0;34m]\u001b[0m\u001b[0;34m)\u001b[0m\u001b[0;34m\u001b[0m\u001b[0;34m\u001b[0m\u001b[0m\n\u001b[0m\u001b[1;32m      6\u001b[0m     \u001b[0mlen_\u001b[0m\u001b[0;34m=\u001b[0m\u001b[0mlen\u001b[0m\u001b[0;34m(\u001b[0m\u001b[0mstr\u001b[0m\u001b[0;34m(\u001b[0m\u001b[0mfib_list\u001b[0m\u001b[0;34m[\u001b[0m\u001b[0;34m-\u001b[0m\u001b[0;36m1\u001b[0m\u001b[0;34m]\u001b[0m\u001b[0;34m)\u001b[0m\u001b[0;34m)\u001b[0m\u001b[0;34m\u001b[0m\u001b[0;34m\u001b[0m\u001b[0m\n\u001b[1;32m      7\u001b[0m \u001b[0;34m\u001b[0m\u001b[0m\n",
            "\u001b[0;31mIndexError\u001b[0m: list index out of range"
          ]
        }
      ]
    },
    {
      "cell_type": "code",
      "source": [
        "import math\n",
        "def es_primo(num):\n",
        "    t=int(math.sqrt(num))\n",
        "    for n in range(2,t):\n",
        "      if num % n == 0:\n",
        "            print(\"No es primo\", n, \"es divisor\")\n",
        "            return False\n",
        "    print(\"Es primo\")\n",
        "    return True\n",
        "es_primo(3457)"
      ],
      "metadata": {
        "id": "h0wkpzdW5Oxe",
        "colab": {
          "base_uri": "https://localhost:8080/"
        },
        "outputId": "42b7fb38-562b-419a-fa3f-f6467dd0b628"
      },
      "execution_count": null,
      "outputs": [
        {
          "output_type": "stream",
          "name": "stdout",
          "text": [
            "Es primo\n"
          ]
        },
        {
          "output_type": "execute_result",
          "data": {
            "text/plain": [
              "True"
            ]
          },
          "metadata": {},
          "execution_count": 3
        }
      ]
    },
    {
      "cell_type": "code",
      "source": [
        "fib_list=[0,1,1]\n",
        "n=2\n",
        "len_=len(str(fib_list[-1]))\n",
        "while len_<2022:\n",
        "    fib_list.append(fib_list[n]+fib_list[n-1])\n",
        "    len_=len(str(fib_list[-1]))\n",
        "    n+=1\n",
        "for x in fib_list:\n",
        "    if x%(7**4):\n",
        "      print(n)"
      ],
      "metadata": {
        "id": "X-sNcAIScVHF"
      },
      "execution_count": null,
      "outputs": []
    },
    {
      "cell_type": "code",
      "source": [
        "answer=[]\n",
        "n=1\n",
        "while len(answer)==0:\n",
        "  for i in range(n)\n",
        "  "
      ],
      "metadata": {
        "colab": {
          "base_uri": "https://localhost:8080/"
        },
        "id": "FZWClJn5pemS",
        "outputId": "ac22b966-4b7f-40c1-bf7b-fc1dcd046e80"
      },
      "execution_count": null,
      "outputs": [
        {
          "output_type": "stream",
          "name": "stdout",
          "text": [
            "[200]\n"
          ]
        }
      ]
    }
  ]
}